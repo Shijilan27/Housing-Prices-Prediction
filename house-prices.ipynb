{
 "cells": [
  {
   "cell_type": "code",
   "execution_count": 1,
   "id": "30a50543",
   "metadata": {
    "_cell_guid": "b1076dfc-b9ad-4769-8c92-a6c4dae69d19",
    "_uuid": "8f2839f25d086af736a60e9eeb907d3b93b6e0e5",
    "execution": {
     "iopub.execute_input": "2024-07-03T15:21:49.535700Z",
     "iopub.status.busy": "2024-07-03T15:21:49.535258Z",
     "iopub.status.idle": "2024-07-03T15:21:50.565926Z",
     "shell.execute_reply": "2024-07-03T15:21:50.564629Z"
    },
    "papermill": {
     "duration": 1.043907,
     "end_time": "2024-07-03T15:21:50.568899",
     "exception": false,
     "start_time": "2024-07-03T15:21:49.524992",
     "status": "completed"
    },
    "tags": []
   },
   "outputs": [
    {
     "name": "stdout",
     "output_type": "stream",
     "text": [
      "/kaggle/input/house-prices-advanced-regression-techniques/sample_submission.csv\n",
      "/kaggle/input/house-prices-advanced-regression-techniques/data_description.txt\n",
      "/kaggle/input/house-prices-advanced-regression-techniques/train.csv\n",
      "/kaggle/input/house-prices-advanced-regression-techniques/test.csv\n"
     ]
    }
   ],
   "source": [
    "# This Python 3 environment comes with many helpful analytics libraries installed\n",
    "# It is defined by the kaggle/python Docker image: https://github.com/kaggle/docker-python\n",
    "# For example, here's several helpful packages to load\n",
    "\n",
    "import numpy as np # linear algebra\n",
    "import pandas as pd # data processing, CSV file I/O (e.g. pd.read_csv)\n",
    "\n",
    "# Input data files are available in the read-only \"../input/\" directory\n",
    "# For example, running this (by clicking run or pressing Shift+Enter) will list all files under the input directory\n",
    "\n",
    "import os\n",
    "for dirname, _, filenames in os.walk('/kaggle/input'):\n",
    "    for filename in filenames:\n",
    "        print(os.path.join(dirname, filename))\n",
    "\n",
    "# You can write up to 20GB to the current directory (/kaggle/working/) that gets preserved as output when you create a version using \"Save & Run All\" \n",
    "# You can also write temporary files to /kaggle/temp/, but they won't be saved outside of the current session"
   ]
  },
  {
   "cell_type": "code",
   "execution_count": 2,
   "id": "a3448ba5",
   "metadata": {
    "execution": {
     "iopub.execute_input": "2024-07-03T15:21:50.587580Z",
     "iopub.status.busy": "2024-07-03T15:21:50.587000Z",
     "iopub.status.idle": "2024-07-03T15:21:53.025368Z",
     "shell.execute_reply": "2024-07-03T15:21:53.024124Z"
    },
    "papermill": {
     "duration": 2.45057,
     "end_time": "2024-07-03T15:21:53.028070",
     "exception": false,
     "start_time": "2024-07-03T15:21:50.577500",
     "status": "completed"
    },
    "tags": []
   },
   "outputs": [],
   "source": [
    "import matplotlib as plt\n",
    "import seaborn as sns\n",
    "from sklearn.preprocessing import LabelEncoder\n",
    "from sklearn.model_selection import train_test_split\n",
    "from sklearn.ensemble import RandomForestRegressor\n",
    "from sklearn.svm import SVC\n",
    "from sklearn.linear_model import Lasso\n",
    "import xgboost as xgb\n",
    "from sklearn.metrics import mean_squared_error\n"
   ]
  },
  {
   "cell_type": "code",
   "execution_count": 3,
   "id": "771a4fca",
   "metadata": {
    "execution": {
     "iopub.execute_input": "2024-07-03T15:21:53.046586Z",
     "iopub.status.busy": "2024-07-03T15:21:53.046071Z",
     "iopub.status.idle": "2024-07-03T15:21:53.163582Z",
     "shell.execute_reply": "2024-07-03T15:21:53.162346Z"
    },
    "papermill": {
     "duration": 0.129707,
     "end_time": "2024-07-03T15:21:53.166119",
     "exception": false,
     "start_time": "2024-07-03T15:21:53.036412",
     "status": "completed"
    },
    "tags": []
   },
   "outputs": [
    {
     "data": {
      "text/html": [
       "<div>\n",
       "<style scoped>\n",
       "    .dataframe tbody tr th:only-of-type {\n",
       "        vertical-align: middle;\n",
       "    }\n",
       "\n",
       "    .dataframe tbody tr th {\n",
       "        vertical-align: top;\n",
       "    }\n",
       "\n",
       "    .dataframe thead th {\n",
       "        text-align: right;\n",
       "    }\n",
       "</style>\n",
       "<table border=\"1\" class=\"dataframe\">\n",
       "  <thead>\n",
       "    <tr style=\"text-align: right;\">\n",
       "      <th></th>\n",
       "      <th>Id</th>\n",
       "      <th>MSSubClass</th>\n",
       "      <th>MSZoning</th>\n",
       "      <th>LotFrontage</th>\n",
       "      <th>LotArea</th>\n",
       "      <th>Street</th>\n",
       "      <th>Alley</th>\n",
       "      <th>LotShape</th>\n",
       "      <th>LandContour</th>\n",
       "      <th>Utilities</th>\n",
       "      <th>...</th>\n",
       "      <th>ScreenPorch</th>\n",
       "      <th>PoolArea</th>\n",
       "      <th>PoolQC</th>\n",
       "      <th>Fence</th>\n",
       "      <th>MiscFeature</th>\n",
       "      <th>MiscVal</th>\n",
       "      <th>MoSold</th>\n",
       "      <th>YrSold</th>\n",
       "      <th>SaleType</th>\n",
       "      <th>SaleCondition</th>\n",
       "    </tr>\n",
       "  </thead>\n",
       "  <tbody>\n",
       "    <tr>\n",
       "      <th>0</th>\n",
       "      <td>1461</td>\n",
       "      <td>20</td>\n",
       "      <td>RH</td>\n",
       "      <td>80.0</td>\n",
       "      <td>11622</td>\n",
       "      <td>Pave</td>\n",
       "      <td>NaN</td>\n",
       "      <td>Reg</td>\n",
       "      <td>Lvl</td>\n",
       "      <td>AllPub</td>\n",
       "      <td>...</td>\n",
       "      <td>120</td>\n",
       "      <td>0</td>\n",
       "      <td>NaN</td>\n",
       "      <td>MnPrv</td>\n",
       "      <td>NaN</td>\n",
       "      <td>0</td>\n",
       "      <td>6</td>\n",
       "      <td>2010</td>\n",
       "      <td>WD</td>\n",
       "      <td>Normal</td>\n",
       "    </tr>\n",
       "    <tr>\n",
       "      <th>1</th>\n",
       "      <td>1462</td>\n",
       "      <td>20</td>\n",
       "      <td>RL</td>\n",
       "      <td>81.0</td>\n",
       "      <td>14267</td>\n",
       "      <td>Pave</td>\n",
       "      <td>NaN</td>\n",
       "      <td>IR1</td>\n",
       "      <td>Lvl</td>\n",
       "      <td>AllPub</td>\n",
       "      <td>...</td>\n",
       "      <td>0</td>\n",
       "      <td>0</td>\n",
       "      <td>NaN</td>\n",
       "      <td>NaN</td>\n",
       "      <td>Gar2</td>\n",
       "      <td>12500</td>\n",
       "      <td>6</td>\n",
       "      <td>2010</td>\n",
       "      <td>WD</td>\n",
       "      <td>Normal</td>\n",
       "    </tr>\n",
       "    <tr>\n",
       "      <th>2</th>\n",
       "      <td>1463</td>\n",
       "      <td>60</td>\n",
       "      <td>RL</td>\n",
       "      <td>74.0</td>\n",
       "      <td>13830</td>\n",
       "      <td>Pave</td>\n",
       "      <td>NaN</td>\n",
       "      <td>IR1</td>\n",
       "      <td>Lvl</td>\n",
       "      <td>AllPub</td>\n",
       "      <td>...</td>\n",
       "      <td>0</td>\n",
       "      <td>0</td>\n",
       "      <td>NaN</td>\n",
       "      <td>MnPrv</td>\n",
       "      <td>NaN</td>\n",
       "      <td>0</td>\n",
       "      <td>3</td>\n",
       "      <td>2010</td>\n",
       "      <td>WD</td>\n",
       "      <td>Normal</td>\n",
       "    </tr>\n",
       "    <tr>\n",
       "      <th>3</th>\n",
       "      <td>1464</td>\n",
       "      <td>60</td>\n",
       "      <td>RL</td>\n",
       "      <td>78.0</td>\n",
       "      <td>9978</td>\n",
       "      <td>Pave</td>\n",
       "      <td>NaN</td>\n",
       "      <td>IR1</td>\n",
       "      <td>Lvl</td>\n",
       "      <td>AllPub</td>\n",
       "      <td>...</td>\n",
       "      <td>0</td>\n",
       "      <td>0</td>\n",
       "      <td>NaN</td>\n",
       "      <td>NaN</td>\n",
       "      <td>NaN</td>\n",
       "      <td>0</td>\n",
       "      <td>6</td>\n",
       "      <td>2010</td>\n",
       "      <td>WD</td>\n",
       "      <td>Normal</td>\n",
       "    </tr>\n",
       "    <tr>\n",
       "      <th>4</th>\n",
       "      <td>1465</td>\n",
       "      <td>120</td>\n",
       "      <td>RL</td>\n",
       "      <td>43.0</td>\n",
       "      <td>5005</td>\n",
       "      <td>Pave</td>\n",
       "      <td>NaN</td>\n",
       "      <td>IR1</td>\n",
       "      <td>HLS</td>\n",
       "      <td>AllPub</td>\n",
       "      <td>...</td>\n",
       "      <td>144</td>\n",
       "      <td>0</td>\n",
       "      <td>NaN</td>\n",
       "      <td>NaN</td>\n",
       "      <td>NaN</td>\n",
       "      <td>0</td>\n",
       "      <td>1</td>\n",
       "      <td>2010</td>\n",
       "      <td>WD</td>\n",
       "      <td>Normal</td>\n",
       "    </tr>\n",
       "  </tbody>\n",
       "</table>\n",
       "<p>5 rows × 80 columns</p>\n",
       "</div>"
      ],
      "text/plain": [
       "     Id  MSSubClass MSZoning  LotFrontage  LotArea Street Alley LotShape  \\\n",
       "0  1461          20       RH         80.0    11622   Pave   NaN      Reg   \n",
       "1  1462          20       RL         81.0    14267   Pave   NaN      IR1   \n",
       "2  1463          60       RL         74.0    13830   Pave   NaN      IR1   \n",
       "3  1464          60       RL         78.0     9978   Pave   NaN      IR1   \n",
       "4  1465         120       RL         43.0     5005   Pave   NaN      IR1   \n",
       "\n",
       "  LandContour Utilities  ... ScreenPorch PoolArea PoolQC  Fence MiscFeature  \\\n",
       "0         Lvl    AllPub  ...         120        0    NaN  MnPrv         NaN   \n",
       "1         Lvl    AllPub  ...           0        0    NaN    NaN        Gar2   \n",
       "2         Lvl    AllPub  ...           0        0    NaN  MnPrv         NaN   \n",
       "3         Lvl    AllPub  ...           0        0    NaN    NaN         NaN   \n",
       "4         HLS    AllPub  ...         144        0    NaN    NaN         NaN   \n",
       "\n",
       "  MiscVal MoSold  YrSold  SaleType  SaleCondition  \n",
       "0       0      6    2010        WD         Normal  \n",
       "1   12500      6    2010        WD         Normal  \n",
       "2       0      3    2010        WD         Normal  \n",
       "3       0      6    2010        WD         Normal  \n",
       "4       0      1    2010        WD         Normal  \n",
       "\n",
       "[5 rows x 80 columns]"
      ]
     },
     "execution_count": 3,
     "metadata": {},
     "output_type": "execute_result"
    }
   ],
   "source": [
    "df = pd.read_csv('/kaggle/input/house-prices-advanced-regression-techniques/train.csv')\n",
    "df1 = pd.read_csv('/kaggle/input/house-prices-advanced-regression-techniques/test.csv')\n",
    "df1.head()"
   ]
  },
  {
   "cell_type": "code",
   "execution_count": 4,
   "id": "2b0dc6c3",
   "metadata": {
    "execution": {
     "iopub.execute_input": "2024-07-03T15:21:53.184796Z",
     "iopub.status.busy": "2024-07-03T15:21:53.184385Z",
     "iopub.status.idle": "2024-07-03T15:21:53.191444Z",
     "shell.execute_reply": "2024-07-03T15:21:53.190449Z"
    },
    "papermill": {
     "duration": 0.019186,
     "end_time": "2024-07-03T15:21:53.194083",
     "exception": false,
     "start_time": "2024-07-03T15:21:53.174897",
     "status": "completed"
    },
    "tags": []
   },
   "outputs": [
    {
     "name": "stdout",
     "output_type": "stream",
     "text": [
      "Categorical Variables\n",
      "['MSZoning', 'Street', 'Alley', 'LotShape', 'LandContour', 'Utilities', 'LotConfig', 'LandSlope', 'Neighborhood', 'Condition1', 'Condition2', 'BldgType', 'HouseStyle', 'RoofStyle', 'RoofMatl', 'Exterior1st', 'Exterior2nd', 'MasVnrType', 'ExterQual', 'ExterCond', 'Foundation', 'BsmtQual', 'BsmtCond', 'BsmtExposure', 'BsmtFinType1', 'BsmtFinType2', 'Heating', 'HeatingQC', 'CentralAir', 'Electrical', 'KitchenQual', 'Functional', 'FireplaceQu', 'GarageType', 'GarageFinish', 'GarageQual', 'GarageCond', 'PavedDrive', 'PoolQC', 'Fence', 'MiscFeature', 'SaleType', 'SaleCondition']\n"
     ]
    }
   ],
   "source": [
    "print(\"Categorical Variables\")\n",
    "categorical_variables = df.select_dtypes(include=['object']).columns\n",
    "cat_cols = []\n",
    "for col in categorical_variables:\n",
    "    cat_cols.append(col)\n",
    "print(cat_cols)"
   ]
  },
  {
   "cell_type": "code",
   "execution_count": 5,
   "id": "6619ccb1",
   "metadata": {
    "execution": {
     "iopub.execute_input": "2024-07-03T15:21:53.212734Z",
     "iopub.status.busy": "2024-07-03T15:21:53.212319Z",
     "iopub.status.idle": "2024-07-03T15:21:53.218882Z",
     "shell.execute_reply": "2024-07-03T15:21:53.217628Z"
    },
    "papermill": {
     "duration": 0.019036,
     "end_time": "2024-07-03T15:21:53.221642",
     "exception": false,
     "start_time": "2024-07-03T15:21:53.202606",
     "status": "completed"
    },
    "tags": []
   },
   "outputs": [
    {
     "name": "stdout",
     "output_type": "stream",
     "text": [
      "Numerical Variables\n",
      "['Id', 'MSSubClass', 'LotFrontage', 'LotArea', 'OverallQual', 'OverallCond', 'YearBuilt', 'YearRemodAdd', 'MasVnrArea', 'BsmtFinSF1', 'BsmtFinSF2', 'BsmtUnfSF', 'TotalBsmtSF', '1stFlrSF', '2ndFlrSF', 'LowQualFinSF', 'GrLivArea', 'BsmtFullBath', 'BsmtHalfBath', 'FullBath', 'HalfBath', 'BedroomAbvGr', 'KitchenAbvGr', 'TotRmsAbvGrd', 'Fireplaces', 'GarageYrBlt', 'GarageCars', 'GarageArea', 'WoodDeckSF', 'OpenPorchSF', 'EnclosedPorch', '3SsnPorch', 'ScreenPorch', 'PoolArea', 'MiscVal', 'MoSold', 'YrSold', 'SalePrice']\n"
     ]
    }
   ],
   "source": [
    "print(\"Numerical Variables\")\n",
    "numerical_variables = df._get_numeric_data().columns\n",
    "num_cols = []\n",
    "for col in numerical_variables:\n",
    "    num_cols.append(col)\n",
    "print(num_cols)    "
   ]
  },
  {
   "cell_type": "code",
   "execution_count": 6,
   "id": "8eb64119",
   "metadata": {
    "execution": {
     "iopub.execute_input": "2024-07-03T15:21:53.240533Z",
     "iopub.status.busy": "2024-07-03T15:21:53.239799Z",
     "iopub.status.idle": "2024-07-03T15:21:53.266944Z",
     "shell.execute_reply": "2024-07-03T15:21:53.265871Z"
    },
    "papermill": {
     "duration": 0.0392,
     "end_time": "2024-07-03T15:21:53.269458",
     "exception": false,
     "start_time": "2024-07-03T15:21:53.230258",
     "status": "completed"
    },
    "tags": []
   },
   "outputs": [
    {
     "data": {
      "text/html": [
       "<div>\n",
       "<style scoped>\n",
       "    .dataframe tbody tr th:only-of-type {\n",
       "        vertical-align: middle;\n",
       "    }\n",
       "\n",
       "    .dataframe tbody tr th {\n",
       "        vertical-align: top;\n",
       "    }\n",
       "\n",
       "    .dataframe thead th {\n",
       "        text-align: right;\n",
       "    }\n",
       "</style>\n",
       "<table border=\"1\" class=\"dataframe\">\n",
       "  <thead>\n",
       "    <tr style=\"text-align: right;\">\n",
       "      <th></th>\n",
       "      <th>#nulls</th>\n",
       "    </tr>\n",
       "  </thead>\n",
       "  <tbody>\n",
       "    <tr>\n",
       "      <th>Id</th>\n",
       "      <td>0</td>\n",
       "    </tr>\n",
       "    <tr>\n",
       "      <th>MSSubClass</th>\n",
       "      <td>0</td>\n",
       "    </tr>\n",
       "    <tr>\n",
       "      <th>MSZoning</th>\n",
       "      <td>0</td>\n",
       "    </tr>\n",
       "    <tr>\n",
       "      <th>LotFrontage</th>\n",
       "      <td>259</td>\n",
       "    </tr>\n",
       "    <tr>\n",
       "      <th>LotArea</th>\n",
       "      <td>0</td>\n",
       "    </tr>\n",
       "    <tr>\n",
       "      <th>...</th>\n",
       "      <td>...</td>\n",
       "    </tr>\n",
       "    <tr>\n",
       "      <th>MoSold</th>\n",
       "      <td>0</td>\n",
       "    </tr>\n",
       "    <tr>\n",
       "      <th>YrSold</th>\n",
       "      <td>0</td>\n",
       "    </tr>\n",
       "    <tr>\n",
       "      <th>SaleType</th>\n",
       "      <td>0</td>\n",
       "    </tr>\n",
       "    <tr>\n",
       "      <th>SaleCondition</th>\n",
       "      <td>0</td>\n",
       "    </tr>\n",
       "    <tr>\n",
       "      <th>SalePrice</th>\n",
       "      <td>0</td>\n",
       "    </tr>\n",
       "  </tbody>\n",
       "</table>\n",
       "<p>81 rows × 1 columns</p>\n",
       "</div>"
      ],
      "text/plain": [
       "               #nulls\n",
       "Id                  0\n",
       "MSSubClass          0\n",
       "MSZoning            0\n",
       "LotFrontage       259\n",
       "LotArea             0\n",
       "...               ...\n",
       "MoSold              0\n",
       "YrSold              0\n",
       "SaleType            0\n",
       "SaleCondition       0\n",
       "SalePrice           0\n",
       "\n",
       "[81 rows x 1 columns]"
      ]
     },
     "execution_count": 6,
     "metadata": {},
     "output_type": "execute_result"
    }
   ],
   "source": [
    "def get_nulls(df):\n",
    "    dict_nulls = {}\n",
    "    for col in  df.columns:\n",
    "        dict_nulls[col]=df[col].isnull().sum()\n",
    "\n",
    "    df_nulls = pd.DataFrame(data=list(dict_nulls.values()), \n",
    "                            index=list(dict_nulls.keys()), \n",
    "                            columns=['#nulls'])\n",
    "    return df_nulls\n",
    "\n",
    "get_nulls(df)"
   ]
  },
  {
   "cell_type": "markdown",
   "id": "30cda005",
   "metadata": {
    "papermill": {
     "duration": 0.008326,
     "end_time": "2024-07-03T15:21:53.286598",
     "exception": false,
     "start_time": "2024-07-03T15:21:53.278272",
     "status": "completed"
    },
    "tags": []
   },
   "source": [
    "# **Data Preprocessing** \n",
    "(filling all null values as well as removing unwanted columns)"
   ]
  },
  {
   "cell_type": "code",
   "execution_count": 7,
   "id": "4c07407d",
   "metadata": {
    "execution": {
     "iopub.execute_input": "2024-07-03T15:21:53.308661Z",
     "iopub.status.busy": "2024-07-03T15:21:53.307708Z",
     "iopub.status.idle": "2024-07-03T15:21:53.314489Z",
     "shell.execute_reply": "2024-07-03T15:21:53.313233Z"
    },
    "papermill": {
     "duration": 0.020956,
     "end_time": "2024-07-03T15:21:53.317383",
     "exception": false,
     "start_time": "2024-07-03T15:21:53.296427",
     "status": "completed"
    },
    "tags": []
   },
   "outputs": [],
   "source": [
    "def Preprocessing(df):\n",
    "    df = df.drop('Id', axis=1)\n",
    "    for col in df.select_dtypes(['int64','float64']).columns:\n",
    "        df[col] = df[col].fillna(df[col].mean())\n",
    "    for col in df.select_dtypes(['object']).columns:\n",
    "        df[col] = df[col].fillna(df[col].mode()[0])\n",
    "    return df"
   ]
  },
  {
   "cell_type": "code",
   "execution_count": 8,
   "id": "c0293cfc",
   "metadata": {
    "execution": {
     "iopub.execute_input": "2024-07-03T15:21:53.336740Z",
     "iopub.status.busy": "2024-07-03T15:21:53.336334Z",
     "iopub.status.idle": "2024-07-03T15:21:53.430682Z",
     "shell.execute_reply": "2024-07-03T15:21:53.429603Z"
    },
    "papermill": {
     "duration": 0.107265,
     "end_time": "2024-07-03T15:21:53.433510",
     "exception": false,
     "start_time": "2024-07-03T15:21:53.326245",
     "status": "completed"
    },
    "tags": []
   },
   "outputs": [],
   "source": [
    "df = Preprocessing(df)\n",
    "df1 = Preprocessing(df1)"
   ]
  },
  {
   "cell_type": "code",
   "execution_count": 9,
   "id": "16671ca2",
   "metadata": {
    "execution": {
     "iopub.execute_input": "2024-07-03T15:21:53.452835Z",
     "iopub.status.busy": "2024-07-03T15:21:53.452415Z",
     "iopub.status.idle": "2024-07-03T15:21:53.479432Z",
     "shell.execute_reply": "2024-07-03T15:21:53.478034Z"
    },
    "papermill": {
     "duration": 0.039797,
     "end_time": "2024-07-03T15:21:53.482102",
     "exception": false,
     "start_time": "2024-07-03T15:21:53.442305",
     "status": "completed"
    },
    "tags": []
   },
   "outputs": [
    {
     "data": {
      "text/html": [
       "<div>\n",
       "<style scoped>\n",
       "    .dataframe tbody tr th:only-of-type {\n",
       "        vertical-align: middle;\n",
       "    }\n",
       "\n",
       "    .dataframe tbody tr th {\n",
       "        vertical-align: top;\n",
       "    }\n",
       "\n",
       "    .dataframe thead th {\n",
       "        text-align: right;\n",
       "    }\n",
       "</style>\n",
       "<table border=\"1\" class=\"dataframe\">\n",
       "  <thead>\n",
       "    <tr style=\"text-align: right;\">\n",
       "      <th></th>\n",
       "      <th>#nulls</th>\n",
       "    </tr>\n",
       "  </thead>\n",
       "  <tbody>\n",
       "    <tr>\n",
       "      <th>MSSubClass</th>\n",
       "      <td>0</td>\n",
       "    </tr>\n",
       "    <tr>\n",
       "      <th>MSZoning</th>\n",
       "      <td>0</td>\n",
       "    </tr>\n",
       "    <tr>\n",
       "      <th>LotFrontage</th>\n",
       "      <td>0</td>\n",
       "    </tr>\n",
       "    <tr>\n",
       "      <th>LotArea</th>\n",
       "      <td>0</td>\n",
       "    </tr>\n",
       "    <tr>\n",
       "      <th>Street</th>\n",
       "      <td>0</td>\n",
       "    </tr>\n",
       "    <tr>\n",
       "      <th>...</th>\n",
       "      <td>...</td>\n",
       "    </tr>\n",
       "    <tr>\n",
       "      <th>MoSold</th>\n",
       "      <td>0</td>\n",
       "    </tr>\n",
       "    <tr>\n",
       "      <th>YrSold</th>\n",
       "      <td>0</td>\n",
       "    </tr>\n",
       "    <tr>\n",
       "      <th>SaleType</th>\n",
       "      <td>0</td>\n",
       "    </tr>\n",
       "    <tr>\n",
       "      <th>SaleCondition</th>\n",
       "      <td>0</td>\n",
       "    </tr>\n",
       "    <tr>\n",
       "      <th>SalePrice</th>\n",
       "      <td>0</td>\n",
       "    </tr>\n",
       "  </tbody>\n",
       "</table>\n",
       "<p>80 rows × 1 columns</p>\n",
       "</div>"
      ],
      "text/plain": [
       "               #nulls\n",
       "MSSubClass          0\n",
       "MSZoning            0\n",
       "LotFrontage         0\n",
       "LotArea             0\n",
       "Street              0\n",
       "...               ...\n",
       "MoSold              0\n",
       "YrSold              0\n",
       "SaleType            0\n",
       "SaleCondition       0\n",
       "SalePrice           0\n",
       "\n",
       "[80 rows x 1 columns]"
      ]
     },
     "execution_count": 9,
     "metadata": {},
     "output_type": "execute_result"
    }
   ],
   "source": [
    "get_nulls(df)"
   ]
  },
  {
   "cell_type": "code",
   "execution_count": 10,
   "id": "a51b099e",
   "metadata": {
    "execution": {
     "iopub.execute_input": "2024-07-03T15:21:53.501733Z",
     "iopub.status.busy": "2024-07-03T15:21:53.501345Z",
     "iopub.status.idle": "2024-07-03T15:21:53.591615Z",
     "shell.execute_reply": "2024-07-03T15:21:53.590361Z"
    },
    "papermill": {
     "duration": 0.102647,
     "end_time": "2024-07-03T15:21:53.593924",
     "exception": false,
     "start_time": "2024-07-03T15:21:53.491277",
     "status": "completed"
    },
    "tags": []
   },
   "outputs": [
    {
     "data": {
      "text/html": [
       "<div>\n",
       "<style scoped>\n",
       "    .dataframe tbody tr th:only-of-type {\n",
       "        vertical-align: middle;\n",
       "    }\n",
       "\n",
       "    .dataframe tbody tr th {\n",
       "        vertical-align: top;\n",
       "    }\n",
       "\n",
       "    .dataframe thead th {\n",
       "        text-align: right;\n",
       "    }\n",
       "</style>\n",
       "<table border=\"1\" class=\"dataframe\">\n",
       "  <thead>\n",
       "    <tr style=\"text-align: right;\">\n",
       "      <th></th>\n",
       "      <th>MSSubClass</th>\n",
       "      <th>LotFrontage</th>\n",
       "      <th>LotArea</th>\n",
       "      <th>OverallQual</th>\n",
       "      <th>OverallCond</th>\n",
       "      <th>YearBuilt</th>\n",
       "      <th>YearRemodAdd</th>\n",
       "      <th>MasVnrArea</th>\n",
       "      <th>BsmtFinSF1</th>\n",
       "      <th>BsmtFinSF2</th>\n",
       "      <th>...</th>\n",
       "      <th>WoodDeckSF</th>\n",
       "      <th>OpenPorchSF</th>\n",
       "      <th>EnclosedPorch</th>\n",
       "      <th>3SsnPorch</th>\n",
       "      <th>ScreenPorch</th>\n",
       "      <th>PoolArea</th>\n",
       "      <th>MiscVal</th>\n",
       "      <th>MoSold</th>\n",
       "      <th>YrSold</th>\n",
       "      <th>SalePrice</th>\n",
       "    </tr>\n",
       "  </thead>\n",
       "  <tbody>\n",
       "    <tr>\n",
       "      <th>count</th>\n",
       "      <td>1460.000000</td>\n",
       "      <td>1460.000000</td>\n",
       "      <td>1460.000000</td>\n",
       "      <td>1460.000000</td>\n",
       "      <td>1460.000000</td>\n",
       "      <td>1460.000000</td>\n",
       "      <td>1460.000000</td>\n",
       "      <td>1460.000000</td>\n",
       "      <td>1460.000000</td>\n",
       "      <td>1460.000000</td>\n",
       "      <td>...</td>\n",
       "      <td>1460.000000</td>\n",
       "      <td>1460.000000</td>\n",
       "      <td>1460.000000</td>\n",
       "      <td>1460.000000</td>\n",
       "      <td>1460.000000</td>\n",
       "      <td>1460.000000</td>\n",
       "      <td>1460.000000</td>\n",
       "      <td>1460.000000</td>\n",
       "      <td>1460.000000</td>\n",
       "      <td>1460.000000</td>\n",
       "    </tr>\n",
       "    <tr>\n",
       "      <th>mean</th>\n",
       "      <td>56.897260</td>\n",
       "      <td>70.049958</td>\n",
       "      <td>10516.828082</td>\n",
       "      <td>6.099315</td>\n",
       "      <td>5.575342</td>\n",
       "      <td>1971.267808</td>\n",
       "      <td>1984.865753</td>\n",
       "      <td>103.685262</td>\n",
       "      <td>443.639726</td>\n",
       "      <td>46.549315</td>\n",
       "      <td>...</td>\n",
       "      <td>94.244521</td>\n",
       "      <td>46.660274</td>\n",
       "      <td>21.954110</td>\n",
       "      <td>3.409589</td>\n",
       "      <td>15.060959</td>\n",
       "      <td>2.758904</td>\n",
       "      <td>43.489041</td>\n",
       "      <td>6.321918</td>\n",
       "      <td>2007.815753</td>\n",
       "      <td>180921.195890</td>\n",
       "    </tr>\n",
       "    <tr>\n",
       "      <th>std</th>\n",
       "      <td>42.300571</td>\n",
       "      <td>22.024023</td>\n",
       "      <td>9981.264932</td>\n",
       "      <td>1.382997</td>\n",
       "      <td>1.112799</td>\n",
       "      <td>30.202904</td>\n",
       "      <td>20.645407</td>\n",
       "      <td>180.569112</td>\n",
       "      <td>456.098091</td>\n",
       "      <td>161.319273</td>\n",
       "      <td>...</td>\n",
       "      <td>125.338794</td>\n",
       "      <td>66.256028</td>\n",
       "      <td>61.119149</td>\n",
       "      <td>29.317331</td>\n",
       "      <td>55.757415</td>\n",
       "      <td>40.177307</td>\n",
       "      <td>496.123024</td>\n",
       "      <td>2.703626</td>\n",
       "      <td>1.328095</td>\n",
       "      <td>79442.502883</td>\n",
       "    </tr>\n",
       "    <tr>\n",
       "      <th>min</th>\n",
       "      <td>20.000000</td>\n",
       "      <td>21.000000</td>\n",
       "      <td>1300.000000</td>\n",
       "      <td>1.000000</td>\n",
       "      <td>1.000000</td>\n",
       "      <td>1872.000000</td>\n",
       "      <td>1950.000000</td>\n",
       "      <td>0.000000</td>\n",
       "      <td>0.000000</td>\n",
       "      <td>0.000000</td>\n",
       "      <td>...</td>\n",
       "      <td>0.000000</td>\n",
       "      <td>0.000000</td>\n",
       "      <td>0.000000</td>\n",
       "      <td>0.000000</td>\n",
       "      <td>0.000000</td>\n",
       "      <td>0.000000</td>\n",
       "      <td>0.000000</td>\n",
       "      <td>1.000000</td>\n",
       "      <td>2006.000000</td>\n",
       "      <td>34900.000000</td>\n",
       "    </tr>\n",
       "    <tr>\n",
       "      <th>25%</th>\n",
       "      <td>20.000000</td>\n",
       "      <td>60.000000</td>\n",
       "      <td>7553.500000</td>\n",
       "      <td>5.000000</td>\n",
       "      <td>5.000000</td>\n",
       "      <td>1954.000000</td>\n",
       "      <td>1967.000000</td>\n",
       "      <td>0.000000</td>\n",
       "      <td>0.000000</td>\n",
       "      <td>0.000000</td>\n",
       "      <td>...</td>\n",
       "      <td>0.000000</td>\n",
       "      <td>0.000000</td>\n",
       "      <td>0.000000</td>\n",
       "      <td>0.000000</td>\n",
       "      <td>0.000000</td>\n",
       "      <td>0.000000</td>\n",
       "      <td>0.000000</td>\n",
       "      <td>5.000000</td>\n",
       "      <td>2007.000000</td>\n",
       "      <td>129975.000000</td>\n",
       "    </tr>\n",
       "    <tr>\n",
       "      <th>50%</th>\n",
       "      <td>50.000000</td>\n",
       "      <td>70.049958</td>\n",
       "      <td>9478.500000</td>\n",
       "      <td>6.000000</td>\n",
       "      <td>5.000000</td>\n",
       "      <td>1973.000000</td>\n",
       "      <td>1994.000000</td>\n",
       "      <td>0.000000</td>\n",
       "      <td>383.500000</td>\n",
       "      <td>0.000000</td>\n",
       "      <td>...</td>\n",
       "      <td>0.000000</td>\n",
       "      <td>25.000000</td>\n",
       "      <td>0.000000</td>\n",
       "      <td>0.000000</td>\n",
       "      <td>0.000000</td>\n",
       "      <td>0.000000</td>\n",
       "      <td>0.000000</td>\n",
       "      <td>6.000000</td>\n",
       "      <td>2008.000000</td>\n",
       "      <td>163000.000000</td>\n",
       "    </tr>\n",
       "    <tr>\n",
       "      <th>75%</th>\n",
       "      <td>70.000000</td>\n",
       "      <td>79.000000</td>\n",
       "      <td>11601.500000</td>\n",
       "      <td>7.000000</td>\n",
       "      <td>6.000000</td>\n",
       "      <td>2000.000000</td>\n",
       "      <td>2004.000000</td>\n",
       "      <td>164.250000</td>\n",
       "      <td>712.250000</td>\n",
       "      <td>0.000000</td>\n",
       "      <td>...</td>\n",
       "      <td>168.000000</td>\n",
       "      <td>68.000000</td>\n",
       "      <td>0.000000</td>\n",
       "      <td>0.000000</td>\n",
       "      <td>0.000000</td>\n",
       "      <td>0.000000</td>\n",
       "      <td>0.000000</td>\n",
       "      <td>8.000000</td>\n",
       "      <td>2009.000000</td>\n",
       "      <td>214000.000000</td>\n",
       "    </tr>\n",
       "    <tr>\n",
       "      <th>max</th>\n",
       "      <td>190.000000</td>\n",
       "      <td>313.000000</td>\n",
       "      <td>215245.000000</td>\n",
       "      <td>10.000000</td>\n",
       "      <td>9.000000</td>\n",
       "      <td>2010.000000</td>\n",
       "      <td>2010.000000</td>\n",
       "      <td>1600.000000</td>\n",
       "      <td>5644.000000</td>\n",
       "      <td>1474.000000</td>\n",
       "      <td>...</td>\n",
       "      <td>857.000000</td>\n",
       "      <td>547.000000</td>\n",
       "      <td>552.000000</td>\n",
       "      <td>508.000000</td>\n",
       "      <td>480.000000</td>\n",
       "      <td>738.000000</td>\n",
       "      <td>15500.000000</td>\n",
       "      <td>12.000000</td>\n",
       "      <td>2010.000000</td>\n",
       "      <td>755000.000000</td>\n",
       "    </tr>\n",
       "  </tbody>\n",
       "</table>\n",
       "<p>8 rows × 37 columns</p>\n",
       "</div>"
      ],
      "text/plain": [
       "        MSSubClass  LotFrontage        LotArea  OverallQual  OverallCond  \\\n",
       "count  1460.000000  1460.000000    1460.000000  1460.000000  1460.000000   \n",
       "mean     56.897260    70.049958   10516.828082     6.099315     5.575342   \n",
       "std      42.300571    22.024023    9981.264932     1.382997     1.112799   \n",
       "min      20.000000    21.000000    1300.000000     1.000000     1.000000   \n",
       "25%      20.000000    60.000000    7553.500000     5.000000     5.000000   \n",
       "50%      50.000000    70.049958    9478.500000     6.000000     5.000000   \n",
       "75%      70.000000    79.000000   11601.500000     7.000000     6.000000   \n",
       "max     190.000000   313.000000  215245.000000    10.000000     9.000000   \n",
       "\n",
       "         YearBuilt  YearRemodAdd   MasVnrArea   BsmtFinSF1   BsmtFinSF2  ...  \\\n",
       "count  1460.000000   1460.000000  1460.000000  1460.000000  1460.000000  ...   \n",
       "mean   1971.267808   1984.865753   103.685262   443.639726    46.549315  ...   \n",
       "std      30.202904     20.645407   180.569112   456.098091   161.319273  ...   \n",
       "min    1872.000000   1950.000000     0.000000     0.000000     0.000000  ...   \n",
       "25%    1954.000000   1967.000000     0.000000     0.000000     0.000000  ...   \n",
       "50%    1973.000000   1994.000000     0.000000   383.500000     0.000000  ...   \n",
       "75%    2000.000000   2004.000000   164.250000   712.250000     0.000000  ...   \n",
       "max    2010.000000   2010.000000  1600.000000  5644.000000  1474.000000  ...   \n",
       "\n",
       "        WoodDeckSF  OpenPorchSF  EnclosedPorch    3SsnPorch  ScreenPorch  \\\n",
       "count  1460.000000  1460.000000    1460.000000  1460.000000  1460.000000   \n",
       "mean     94.244521    46.660274      21.954110     3.409589    15.060959   \n",
       "std     125.338794    66.256028      61.119149    29.317331    55.757415   \n",
       "min       0.000000     0.000000       0.000000     0.000000     0.000000   \n",
       "25%       0.000000     0.000000       0.000000     0.000000     0.000000   \n",
       "50%       0.000000    25.000000       0.000000     0.000000     0.000000   \n",
       "75%     168.000000    68.000000       0.000000     0.000000     0.000000   \n",
       "max     857.000000   547.000000     552.000000   508.000000   480.000000   \n",
       "\n",
       "          PoolArea       MiscVal       MoSold       YrSold      SalePrice  \n",
       "count  1460.000000   1460.000000  1460.000000  1460.000000    1460.000000  \n",
       "mean      2.758904     43.489041     6.321918  2007.815753  180921.195890  \n",
       "std      40.177307    496.123024     2.703626     1.328095   79442.502883  \n",
       "min       0.000000      0.000000     1.000000  2006.000000   34900.000000  \n",
       "25%       0.000000      0.000000     5.000000  2007.000000  129975.000000  \n",
       "50%       0.000000      0.000000     6.000000  2008.000000  163000.000000  \n",
       "75%       0.000000      0.000000     8.000000  2009.000000  214000.000000  \n",
       "max     738.000000  15500.000000    12.000000  2010.000000  755000.000000  \n",
       "\n",
       "[8 rows x 37 columns]"
      ]
     },
     "execution_count": 10,
     "metadata": {},
     "output_type": "execute_result"
    }
   ],
   "source": [
    "df.describe()"
   ]
  },
  {
   "cell_type": "code",
   "execution_count": 11,
   "id": "7a4db2e8",
   "metadata": {
    "execution": {
     "iopub.execute_input": "2024-07-03T15:21:53.614149Z",
     "iopub.status.busy": "2024-07-03T15:21:53.613791Z",
     "iopub.status.idle": "2024-07-03T15:21:53.645714Z",
     "shell.execute_reply": "2024-07-03T15:21:53.644463Z"
    },
    "papermill": {
     "duration": 0.045817,
     "end_time": "2024-07-03T15:21:53.649077",
     "exception": false,
     "start_time": "2024-07-03T15:21:53.603260",
     "status": "completed"
    },
    "tags": []
   },
   "outputs": [
    {
     "name": "stdout",
     "output_type": "stream",
     "text": [
      "<class 'pandas.core.frame.DataFrame'>\n",
      "RangeIndex: 1460 entries, 0 to 1459\n",
      "Data columns (total 80 columns):\n",
      " #   Column         Non-Null Count  Dtype  \n",
      "---  ------         --------------  -----  \n",
      " 0   MSSubClass     1460 non-null   int64  \n",
      " 1   MSZoning       1460 non-null   object \n",
      " 2   LotFrontage    1460 non-null   float64\n",
      " 3   LotArea        1460 non-null   int64  \n",
      " 4   Street         1460 non-null   object \n",
      " 5   Alley          1460 non-null   object \n",
      " 6   LotShape       1460 non-null   object \n",
      " 7   LandContour    1460 non-null   object \n",
      " 8   Utilities      1460 non-null   object \n",
      " 9   LotConfig      1460 non-null   object \n",
      " 10  LandSlope      1460 non-null   object \n",
      " 11  Neighborhood   1460 non-null   object \n",
      " 12  Condition1     1460 non-null   object \n",
      " 13  Condition2     1460 non-null   object \n",
      " 14  BldgType       1460 non-null   object \n",
      " 15  HouseStyle     1460 non-null   object \n",
      " 16  OverallQual    1460 non-null   int64  \n",
      " 17  OverallCond    1460 non-null   int64  \n",
      " 18  YearBuilt      1460 non-null   int64  \n",
      " 19  YearRemodAdd   1460 non-null   int64  \n",
      " 20  RoofStyle      1460 non-null   object \n",
      " 21  RoofMatl       1460 non-null   object \n",
      " 22  Exterior1st    1460 non-null   object \n",
      " 23  Exterior2nd    1460 non-null   object \n",
      " 24  MasVnrType     1460 non-null   object \n",
      " 25  MasVnrArea     1460 non-null   float64\n",
      " 26  ExterQual      1460 non-null   object \n",
      " 27  ExterCond      1460 non-null   object \n",
      " 28  Foundation     1460 non-null   object \n",
      " 29  BsmtQual       1460 non-null   object \n",
      " 30  BsmtCond       1460 non-null   object \n",
      " 31  BsmtExposure   1460 non-null   object \n",
      " 32  BsmtFinType1   1460 non-null   object \n",
      " 33  BsmtFinSF1     1460 non-null   int64  \n",
      " 34  BsmtFinType2   1460 non-null   object \n",
      " 35  BsmtFinSF2     1460 non-null   int64  \n",
      " 36  BsmtUnfSF      1460 non-null   int64  \n",
      " 37  TotalBsmtSF    1460 non-null   int64  \n",
      " 38  Heating        1460 non-null   object \n",
      " 39  HeatingQC      1460 non-null   object \n",
      " 40  CentralAir     1460 non-null   object \n",
      " 41  Electrical     1460 non-null   object \n",
      " 42  1stFlrSF       1460 non-null   int64  \n",
      " 43  2ndFlrSF       1460 non-null   int64  \n",
      " 44  LowQualFinSF   1460 non-null   int64  \n",
      " 45  GrLivArea      1460 non-null   int64  \n",
      " 46  BsmtFullBath   1460 non-null   int64  \n",
      " 47  BsmtHalfBath   1460 non-null   int64  \n",
      " 48  FullBath       1460 non-null   int64  \n",
      " 49  HalfBath       1460 non-null   int64  \n",
      " 50  BedroomAbvGr   1460 non-null   int64  \n",
      " 51  KitchenAbvGr   1460 non-null   int64  \n",
      " 52  KitchenQual    1460 non-null   object \n",
      " 53  TotRmsAbvGrd   1460 non-null   int64  \n",
      " 54  Functional     1460 non-null   object \n",
      " 55  Fireplaces     1460 non-null   int64  \n",
      " 56  FireplaceQu    1460 non-null   object \n",
      " 57  GarageType     1460 non-null   object \n",
      " 58  GarageYrBlt    1460 non-null   float64\n",
      " 59  GarageFinish   1460 non-null   object \n",
      " 60  GarageCars     1460 non-null   int64  \n",
      " 61  GarageArea     1460 non-null   int64  \n",
      " 62  GarageQual     1460 non-null   object \n",
      " 63  GarageCond     1460 non-null   object \n",
      " 64  PavedDrive     1460 non-null   object \n",
      " 65  WoodDeckSF     1460 non-null   int64  \n",
      " 66  OpenPorchSF    1460 non-null   int64  \n",
      " 67  EnclosedPorch  1460 non-null   int64  \n",
      " 68  3SsnPorch      1460 non-null   int64  \n",
      " 69  ScreenPorch    1460 non-null   int64  \n",
      " 70  PoolArea       1460 non-null   int64  \n",
      " 71  PoolQC         1460 non-null   object \n",
      " 72  Fence          1460 non-null   object \n",
      " 73  MiscFeature    1460 non-null   object \n",
      " 74  MiscVal        1460 non-null   int64  \n",
      " 75  MoSold         1460 non-null   int64  \n",
      " 76  YrSold         1460 non-null   int64  \n",
      " 77  SaleType       1460 non-null   object \n",
      " 78  SaleCondition  1460 non-null   object \n",
      " 79  SalePrice      1460 non-null   int64  \n",
      "dtypes: float64(3), int64(34), object(43)\n",
      "memory usage: 912.6+ KB\n"
     ]
    }
   ],
   "source": [
    "df.info()"
   ]
  },
  {
   "cell_type": "markdown",
   "id": "a73d89d6",
   "metadata": {
    "papermill": {
     "duration": 0.009045,
     "end_time": "2024-07-03T15:21:53.667980",
     "exception": false,
     "start_time": "2024-07-03T15:21:53.658935",
     "status": "completed"
    },
    "tags": []
   },
   "source": [
    "Encoding "
   ]
  },
  {
   "cell_type": "code",
   "execution_count": 12,
   "id": "f52c378c",
   "metadata": {
    "execution": {
     "iopub.execute_input": "2024-07-03T15:21:53.688952Z",
     "iopub.status.busy": "2024-07-03T15:21:53.688536Z",
     "iopub.status.idle": "2024-07-03T15:21:53.696171Z",
     "shell.execute_reply": "2024-07-03T15:21:53.695068Z"
    },
    "papermill": {
     "duration": 0.021192,
     "end_time": "2024-07-03T15:21:53.698564",
     "exception": false,
     "start_time": "2024-07-03T15:21:53.677372",
     "status": "completed"
    },
    "tags": []
   },
   "outputs": [],
   "source": [
    "def Encoding(df,df1):\n",
    "    lb = LabelEncoder()\n",
    "    for col in df.select_dtypes(['object']).columns:\n",
    "        lb.fit(pd.concat([df[col],df1[col]]))\n",
    "        df[col] = lb.transform(df[col])\n",
    "        df1[col] = lb.transform(df1[col])\n",
    "    return df,df1\n",
    "    "
   ]
  },
  {
   "cell_type": "code",
   "execution_count": 13,
   "id": "bb1e0863",
   "metadata": {
    "execution": {
     "iopub.execute_input": "2024-07-03T15:21:53.719374Z",
     "iopub.status.busy": "2024-07-03T15:21:53.718998Z",
     "iopub.status.idle": "2024-07-03T15:21:53.791087Z",
     "shell.execute_reply": "2024-07-03T15:21:53.789835Z"
    },
    "papermill": {
     "duration": 0.085678,
     "end_time": "2024-07-03T15:21:53.793866",
     "exception": false,
     "start_time": "2024-07-03T15:21:53.708188",
     "status": "completed"
    },
    "tags": []
   },
   "outputs": [],
   "source": [
    "df,df1 = Encoding(df,df1)"
   ]
  },
  {
   "cell_type": "code",
   "execution_count": 14,
   "id": "811606df",
   "metadata": {
    "execution": {
     "iopub.execute_input": "2024-07-03T15:21:53.814625Z",
     "iopub.status.busy": "2024-07-03T15:21:53.814120Z",
     "iopub.status.idle": "2024-07-03T15:21:53.835029Z",
     "shell.execute_reply": "2024-07-03T15:21:53.833739Z"
    },
    "papermill": {
     "duration": 0.034184,
     "end_time": "2024-07-03T15:21:53.837595",
     "exception": false,
     "start_time": "2024-07-03T15:21:53.803411",
     "status": "completed"
    },
    "tags": []
   },
   "outputs": [
    {
     "name": "stdout",
     "output_type": "stream",
     "text": [
      "<class 'pandas.core.frame.DataFrame'>\n",
      "RangeIndex: 1459 entries, 0 to 1458\n",
      "Data columns (total 79 columns):\n",
      " #   Column         Non-Null Count  Dtype  \n",
      "---  ------         --------------  -----  \n",
      " 0   MSSubClass     1459 non-null   int64  \n",
      " 1   MSZoning       1459 non-null   int64  \n",
      " 2   LotFrontage    1459 non-null   float64\n",
      " 3   LotArea        1459 non-null   int64  \n",
      " 4   Street         1459 non-null   int64  \n",
      " 5   Alley          1459 non-null   int64  \n",
      " 6   LotShape       1459 non-null   int64  \n",
      " 7   LandContour    1459 non-null   int64  \n",
      " 8   Utilities      1459 non-null   int64  \n",
      " 9   LotConfig      1459 non-null   int64  \n",
      " 10  LandSlope      1459 non-null   int64  \n",
      " 11  Neighborhood   1459 non-null   int64  \n",
      " 12  Condition1     1459 non-null   int64  \n",
      " 13  Condition2     1459 non-null   int64  \n",
      " 14  BldgType       1459 non-null   int64  \n",
      " 15  HouseStyle     1459 non-null   int64  \n",
      " 16  OverallQual    1459 non-null   int64  \n",
      " 17  OverallCond    1459 non-null   int64  \n",
      " 18  YearBuilt      1459 non-null   int64  \n",
      " 19  YearRemodAdd   1459 non-null   int64  \n",
      " 20  RoofStyle      1459 non-null   int64  \n",
      " 21  RoofMatl       1459 non-null   int64  \n",
      " 22  Exterior1st    1459 non-null   int64  \n",
      " 23  Exterior2nd    1459 non-null   int64  \n",
      " 24  MasVnrType     1459 non-null   int64  \n",
      " 25  MasVnrArea     1459 non-null   float64\n",
      " 26  ExterQual      1459 non-null   int64  \n",
      " 27  ExterCond      1459 non-null   int64  \n",
      " 28  Foundation     1459 non-null   int64  \n",
      " 29  BsmtQual       1459 non-null   int64  \n",
      " 30  BsmtCond       1459 non-null   int64  \n",
      " 31  BsmtExposure   1459 non-null   int64  \n",
      " 32  BsmtFinType1   1459 non-null   int64  \n",
      " 33  BsmtFinSF1     1459 non-null   float64\n",
      " 34  BsmtFinType2   1459 non-null   int64  \n",
      " 35  BsmtFinSF2     1459 non-null   float64\n",
      " 36  BsmtUnfSF      1459 non-null   float64\n",
      " 37  TotalBsmtSF    1459 non-null   float64\n",
      " 38  Heating        1459 non-null   int64  \n",
      " 39  HeatingQC      1459 non-null   int64  \n",
      " 40  CentralAir     1459 non-null   int64  \n",
      " 41  Electrical     1459 non-null   int64  \n",
      " 42  1stFlrSF       1459 non-null   int64  \n",
      " 43  2ndFlrSF       1459 non-null   int64  \n",
      " 44  LowQualFinSF   1459 non-null   int64  \n",
      " 45  GrLivArea      1459 non-null   int64  \n",
      " 46  BsmtFullBath   1459 non-null   float64\n",
      " 47  BsmtHalfBath   1459 non-null   float64\n",
      " 48  FullBath       1459 non-null   int64  \n",
      " 49  HalfBath       1459 non-null   int64  \n",
      " 50  BedroomAbvGr   1459 non-null   int64  \n",
      " 51  KitchenAbvGr   1459 non-null   int64  \n",
      " 52  KitchenQual    1459 non-null   int64  \n",
      " 53  TotRmsAbvGrd   1459 non-null   int64  \n",
      " 54  Functional     1459 non-null   int64  \n",
      " 55  Fireplaces     1459 non-null   int64  \n",
      " 56  FireplaceQu    1459 non-null   int64  \n",
      " 57  GarageType     1459 non-null   int64  \n",
      " 58  GarageYrBlt    1459 non-null   float64\n",
      " 59  GarageFinish   1459 non-null   int64  \n",
      " 60  GarageCars     1459 non-null   float64\n",
      " 61  GarageArea     1459 non-null   float64\n",
      " 62  GarageQual     1459 non-null   int64  \n",
      " 63  GarageCond     1459 non-null   int64  \n",
      " 64  PavedDrive     1459 non-null   int64  \n",
      " 65  WoodDeckSF     1459 non-null   int64  \n",
      " 66  OpenPorchSF    1459 non-null   int64  \n",
      " 67  EnclosedPorch  1459 non-null   int64  \n",
      " 68  3SsnPorch      1459 non-null   int64  \n",
      " 69  ScreenPorch    1459 non-null   int64  \n",
      " 70  PoolArea       1459 non-null   int64  \n",
      " 71  PoolQC         1459 non-null   int64  \n",
      " 72  Fence          1459 non-null   int64  \n",
      " 73  MiscFeature    1459 non-null   int64  \n",
      " 74  MiscVal        1459 non-null   int64  \n",
      " 75  MoSold         1459 non-null   int64  \n",
      " 76  YrSold         1459 non-null   int64  \n",
      " 77  SaleType       1459 non-null   int64  \n",
      " 78  SaleCondition  1459 non-null   int64  \n",
      "dtypes: float64(11), int64(68)\n",
      "memory usage: 900.6 KB\n"
     ]
    }
   ],
   "source": [
    "df1.info()"
   ]
  },
  {
   "cell_type": "markdown",
   "id": "a8588884",
   "metadata": {
    "papermill": {
     "duration": 0.012195,
     "end_time": "2024-07-03T15:21:53.862323",
     "exception": false,
     "start_time": "2024-07-03T15:21:53.850128",
     "status": "completed"
    },
    "tags": []
   },
   "source": [
    "Splitting the Data for testing and training"
   ]
  },
  {
   "cell_type": "code",
   "execution_count": 15,
   "id": "1cf6d177",
   "metadata": {
    "execution": {
     "iopub.execute_input": "2024-07-03T15:21:53.887648Z",
     "iopub.status.busy": "2024-07-03T15:21:53.886620Z",
     "iopub.status.idle": "2024-07-03T15:21:53.898040Z",
     "shell.execute_reply": "2024-07-03T15:21:53.896681Z"
    },
    "papermill": {
     "duration": 0.027773,
     "end_time": "2024-07-03T15:21:53.901874",
     "exception": false,
     "start_time": "2024-07-03T15:21:53.874101",
     "status": "completed"
    },
    "tags": []
   },
   "outputs": [],
   "source": [
    "X = df.drop('SalePrice',axis=1)\n",
    "y = df['SalePrice']"
   ]
  },
  {
   "cell_type": "code",
   "execution_count": 16,
   "id": "31f6b893",
   "metadata": {
    "execution": {
     "iopub.execute_input": "2024-07-03T15:21:53.926237Z",
     "iopub.status.busy": "2024-07-03T15:21:53.925889Z",
     "iopub.status.idle": "2024-07-03T15:21:53.940248Z",
     "shell.execute_reply": "2024-07-03T15:21:53.939256Z"
    },
    "papermill": {
     "duration": 0.028051,
     "end_time": "2024-07-03T15:21:53.942809",
     "exception": false,
     "start_time": "2024-07-03T15:21:53.914758",
     "status": "completed"
    },
    "tags": []
   },
   "outputs": [],
   "source": [
    "X_train, X_test, y_train, y_test = train_test_split(X, y, test_size=0.4, random_state=2)"
   ]
  },
  {
   "cell_type": "markdown",
   "id": "c1ac0dba",
   "metadata": {
    "papermill": {
     "duration": 0.01178,
     "end_time": "2024-07-03T15:21:53.964246",
     "exception": false,
     "start_time": "2024-07-03T15:21:53.952466",
     "status": "completed"
    },
    "tags": []
   },
   "source": [
    "# Setting Up ML models and training them with data"
   ]
  },
  {
   "cell_type": "code",
   "execution_count": 17,
   "id": "d80908bc",
   "metadata": {
    "execution": {
     "iopub.execute_input": "2024-07-03T15:21:53.995012Z",
     "iopub.status.busy": "2024-07-03T15:21:53.994453Z",
     "iopub.status.idle": "2024-07-03T15:21:55.466974Z",
     "shell.execute_reply": "2024-07-03T15:21:55.465652Z"
    },
    "papermill": {
     "duration": 1.492207,
     "end_time": "2024-07-03T15:21:55.470478",
     "exception": false,
     "start_time": "2024-07-03T15:21:53.978271",
     "status": "completed"
    },
    "tags": []
   },
   "outputs": [],
   "source": [
    "rf = RandomForestRegressor()\n",
    "rf.fit(X_train,y_train)\n",
    "rf_pred_score = rf.score(X_test,y_test)"
   ]
  },
  {
   "cell_type": "code",
   "execution_count": 18,
   "id": "11363bfa",
   "metadata": {
    "execution": {
     "iopub.execute_input": "2024-07-03T15:21:55.494976Z",
     "iopub.status.busy": "2024-07-03T15:21:55.494492Z",
     "iopub.status.idle": "2024-07-03T15:21:55.502313Z",
     "shell.execute_reply": "2024-07-03T15:21:55.501087Z"
    },
    "papermill": {
     "duration": 0.022842,
     "end_time": "2024-07-03T15:21:55.504940",
     "exception": false,
     "start_time": "2024-07-03T15:21:55.482098",
     "status": "completed"
    },
    "tags": []
   },
   "outputs": [
    {
     "data": {
      "text/plain": [
       "0.7987928378981539"
      ]
     },
     "execution_count": 18,
     "metadata": {},
     "output_type": "execute_result"
    }
   ],
   "source": [
    "rf_pred_score"
   ]
  },
  {
   "cell_type": "code",
   "execution_count": 19,
   "id": "65865dc7",
   "metadata": {
    "execution": {
     "iopub.execute_input": "2024-07-03T15:21:55.527075Z",
     "iopub.status.busy": "2024-07-03T15:21:55.526676Z",
     "iopub.status.idle": "2024-07-03T15:21:56.986684Z",
     "shell.execute_reply": "2024-07-03T15:21:56.985419Z"
    },
    "papermill": {
     "duration": 1.474348,
     "end_time": "2024-07-03T15:21:56.989472",
     "exception": false,
     "start_time": "2024-07-03T15:21:55.515124",
     "status": "completed"
    },
    "tags": []
   },
   "outputs": [],
   "source": [
    "svc = SVC()\n",
    "svc.fit(X_train,y_train)\n",
    "svc_pred_score = svc.score(X_test,y_test)"
   ]
  },
  {
   "cell_type": "code",
   "execution_count": 20,
   "id": "674880be",
   "metadata": {
    "execution": {
     "iopub.execute_input": "2024-07-03T15:21:57.011520Z",
     "iopub.status.busy": "2024-07-03T15:21:57.011074Z",
     "iopub.status.idle": "2024-07-03T15:21:57.018198Z",
     "shell.execute_reply": "2024-07-03T15:21:57.017107Z"
    },
    "papermill": {
     "duration": 0.021078,
     "end_time": "2024-07-03T15:21:57.020639",
     "exception": false,
     "start_time": "2024-07-03T15:21:56.999561",
     "status": "completed"
    },
    "tags": []
   },
   "outputs": [
    {
     "data": {
      "text/plain": [
       "0.005136986301369863"
      ]
     },
     "execution_count": 20,
     "metadata": {},
     "output_type": "execute_result"
    }
   ],
   "source": [
    "svc_pred_score"
   ]
  },
  {
   "cell_type": "code",
   "execution_count": 21,
   "id": "a7cf7191",
   "metadata": {
    "execution": {
     "iopub.execute_input": "2024-07-03T15:21:57.043112Z",
     "iopub.status.busy": "2024-07-03T15:21:57.041999Z",
     "iopub.status.idle": "2024-07-03T15:21:57.089736Z",
     "shell.execute_reply": "2024-07-03T15:21:57.088288Z"
    },
    "papermill": {
     "duration": 0.06238,
     "end_time": "2024-07-03T15:21:57.093255",
     "exception": false,
     "start_time": "2024-07-03T15:21:57.030875",
     "status": "completed"
    },
    "tags": []
   },
   "outputs": [],
   "source": [
    "ls = Lasso()\n",
    "ls.fit(X_train,y_train)\n",
    "ls_pred_score = ls.score(X_test,y_test)"
   ]
  },
  {
   "cell_type": "code",
   "execution_count": 22,
   "id": "2880ee59",
   "metadata": {
    "execution": {
     "iopub.execute_input": "2024-07-03T15:21:57.167151Z",
     "iopub.status.busy": "2024-07-03T15:21:57.166660Z",
     "iopub.status.idle": "2024-07-03T15:21:57.174056Z",
     "shell.execute_reply": "2024-07-03T15:21:57.173029Z"
    },
    "papermill": {
     "duration": 0.049216,
     "end_time": "2024-07-03T15:21:57.176732",
     "exception": false,
     "start_time": "2024-07-03T15:21:57.127516",
     "status": "completed"
    },
    "tags": []
   },
   "outputs": [
    {
     "data": {
      "text/plain": [
       "0.47476684550570303"
      ]
     },
     "execution_count": 22,
     "metadata": {},
     "output_type": "execute_result"
    }
   ],
   "source": [
    "ls_pred_score"
   ]
  },
  {
   "cell_type": "code",
   "execution_count": 23,
   "id": "5c0fa1fa",
   "metadata": {
    "execution": {
     "iopub.execute_input": "2024-07-03T15:21:57.211651Z",
     "iopub.status.busy": "2024-07-03T15:21:57.211252Z",
     "iopub.status.idle": "2024-07-03T15:21:57.778815Z",
     "shell.execute_reply": "2024-07-03T15:21:57.777815Z"
    },
    "papermill": {
     "duration": 0.581437,
     "end_time": "2024-07-03T15:21:57.781515",
     "exception": false,
     "start_time": "2024-07-03T15:21:57.200078",
     "status": "completed"
    },
    "tags": []
   },
   "outputs": [],
   "source": [
    "xgb_reg = xgb.XGBRegressor(colsample_bytree = 0.8, gamma = 0, learning_rate = 0.1, max_depth = 5, n_estimators = 300, reg_alpha = 0.5, reg_lambda = 10.0, subsample = 1.0)\n",
    "xgb_reg.fit(X_train,y_train)\n",
    "xgb_pred_score = xgb_reg.score(X_test,y_test)"
   ]
  },
  {
   "cell_type": "code",
   "execution_count": 24,
   "id": "31135062",
   "metadata": {
    "execution": {
     "iopub.execute_input": "2024-07-03T15:21:57.804205Z",
     "iopub.status.busy": "2024-07-03T15:21:57.803798Z",
     "iopub.status.idle": "2024-07-03T15:21:57.811043Z",
     "shell.execute_reply": "2024-07-03T15:21:57.809809Z"
    },
    "papermill": {
     "duration": 0.021994,
     "end_time": "2024-07-03T15:21:57.813649",
     "exception": false,
     "start_time": "2024-07-03T15:21:57.791655",
     "status": "completed"
    },
    "tags": []
   },
   "outputs": [
    {
     "data": {
      "text/plain": [
       "0.8132716547937635"
      ]
     },
     "execution_count": 24,
     "metadata": {},
     "output_type": "execute_result"
    }
   ],
   "source": [
    "xgb_pred_score"
   ]
  },
  {
   "cell_type": "code",
   "execution_count": 25,
   "id": "c89f52f1",
   "metadata": {
    "execution": {
     "iopub.execute_input": "2024-07-03T15:21:57.836321Z",
     "iopub.status.busy": "2024-07-03T15:21:57.835928Z",
     "iopub.status.idle": "2024-07-03T15:21:57.846969Z",
     "shell.execute_reply": "2024-07-03T15:21:57.845912Z"
    },
    "papermill": {
     "duration": 0.025078,
     "end_time": "2024-07-03T15:21:57.849227",
     "exception": false,
     "start_time": "2024-07-03T15:21:57.824149",
     "status": "completed"
    },
    "tags": []
   },
   "outputs": [
    {
     "data": {
      "text/html": [
       "<div>\n",
       "<style scoped>\n",
       "    .dataframe tbody tr th:only-of-type {\n",
       "        vertical-align: middle;\n",
       "    }\n",
       "\n",
       "    .dataframe tbody tr th {\n",
       "        vertical-align: top;\n",
       "    }\n",
       "\n",
       "    .dataframe thead th {\n",
       "        text-align: right;\n",
       "    }\n",
       "</style>\n",
       "<table border=\"1\" class=\"dataframe\">\n",
       "  <thead>\n",
       "    <tr style=\"text-align: right;\">\n",
       "      <th></th>\n",
       "      <th>model</th>\n",
       "      <th>accuracy</th>\n",
       "    </tr>\n",
       "  </thead>\n",
       "  <tbody>\n",
       "    <tr>\n",
       "      <th>0</th>\n",
       "      <td>Random Forest</td>\n",
       "      <td>0.798793</td>\n",
       "    </tr>\n",
       "    <tr>\n",
       "      <th>1</th>\n",
       "      <td>Support Vector</td>\n",
       "      <td>0.005137</td>\n",
       "    </tr>\n",
       "    <tr>\n",
       "      <th>2</th>\n",
       "      <td>Lasso</td>\n",
       "      <td>0.474767</td>\n",
       "    </tr>\n",
       "    <tr>\n",
       "      <th>3</th>\n",
       "      <td>Xgboost</td>\n",
       "      <td>0.813272</td>\n",
       "    </tr>\n",
       "  </tbody>\n",
       "</table>\n",
       "</div>"
      ],
      "text/plain": [
       "            model  accuracy\n",
       "0   Random Forest  0.798793\n",
       "1  Support Vector  0.005137\n",
       "2           Lasso  0.474767\n",
       "3         Xgboost  0.813272"
      ]
     },
     "execution_count": 25,
     "metadata": {},
     "output_type": "execute_result"
    }
   ],
   "source": [
    "models = pd.DataFrame(dict(model=['Random Forest','Support Vector','Lasso','Xgboost'],accuracy=[rf_pred_score,svc_pred_score,ls_pred_score,xgb_pred_score]))\n",
    "models"
   ]
  },
  {
   "cell_type": "code",
   "execution_count": 26,
   "id": "fd34be6a",
   "metadata": {
    "execution": {
     "iopub.execute_input": "2024-07-03T15:21:57.872254Z",
     "iopub.status.busy": "2024-07-03T15:21:57.871893Z",
     "iopub.status.idle": "2024-07-03T15:21:57.876585Z",
     "shell.execute_reply": "2024-07-03T15:21:57.875472Z"
    },
    "papermill": {
     "duration": 0.019214,
     "end_time": "2024-07-03T15:21:57.878817",
     "exception": false,
     "start_time": "2024-07-03T15:21:57.859603",
     "status": "completed"
    },
    "tags": []
   },
   "outputs": [],
   "source": [
    "final_model = xgb_reg"
   ]
  },
  {
   "cell_type": "code",
   "execution_count": 27,
   "id": "8134fd1b",
   "metadata": {
    "execution": {
     "iopub.execute_input": "2024-07-03T15:21:57.901665Z",
     "iopub.status.busy": "2024-07-03T15:21:57.900929Z",
     "iopub.status.idle": "2024-07-03T15:21:57.913418Z",
     "shell.execute_reply": "2024-07-03T15:21:57.912350Z"
    },
    "papermill": {
     "duration": 0.026812,
     "end_time": "2024-07-03T15:21:57.915913",
     "exception": false,
     "start_time": "2024-07-03T15:21:57.889101",
     "status": "completed"
    },
    "tags": []
   },
   "outputs": [],
   "source": [
    "X_train = df.drop(['SalePrice'],axis=1)\n",
    "y_train = df['SalePrice']\n",
    "X_test = df1.copy()"
   ]
  },
  {
   "cell_type": "code",
   "execution_count": 28,
   "id": "fd06aac5",
   "metadata": {
    "execution": {
     "iopub.execute_input": "2024-07-03T15:21:57.938573Z",
     "iopub.status.busy": "2024-07-03T15:21:57.937999Z",
     "iopub.status.idle": "2024-07-03T15:21:58.550324Z",
     "shell.execute_reply": "2024-07-03T15:21:58.549460Z"
    },
    "papermill": {
     "duration": 0.626433,
     "end_time": "2024-07-03T15:21:58.552827",
     "exception": false,
     "start_time": "2024-07-03T15:21:57.926394",
     "status": "completed"
    },
    "tags": []
   },
   "outputs": [],
   "source": [
    "final_model.fit(X_train,y_train)\n",
    "final_pred = final_model.predict(X_test)"
   ]
  },
  {
   "cell_type": "code",
   "execution_count": 29,
   "id": "44a873c2",
   "metadata": {
    "execution": {
     "iopub.execute_input": "2024-07-03T15:21:58.576346Z",
     "iopub.status.busy": "2024-07-03T15:21:58.575993Z",
     "iopub.status.idle": "2024-07-03T15:21:58.604647Z",
     "shell.execute_reply": "2024-07-03T15:21:58.603492Z"
    },
    "papermill": {
     "duration": 0.043506,
     "end_time": "2024-07-03T15:21:58.607385",
     "exception": false,
     "start_time": "2024-07-03T15:21:58.563879",
     "status": "completed"
    },
    "tags": []
   },
   "outputs": [],
   "source": [
    "df1['SalePrice'] = final_pred\n",
    "submission = pd.concat([pd.read_csv('/kaggle/input/house-prices-advanced-regression-techniques/test.csv')['Id'], df1['SalePrice']], axis = 1)"
   ]
  },
  {
   "cell_type": "code",
   "execution_count": 30,
   "id": "1435be26",
   "metadata": {
    "execution": {
     "iopub.execute_input": "2024-07-03T15:21:58.629818Z",
     "iopub.status.busy": "2024-07-03T15:21:58.629422Z",
     "iopub.status.idle": "2024-07-03T15:21:58.639782Z",
     "shell.execute_reply": "2024-07-03T15:21:58.638629Z"
    },
    "papermill": {
     "duration": 0.024391,
     "end_time": "2024-07-03T15:21:58.642211",
     "exception": false,
     "start_time": "2024-07-03T15:21:58.617820",
     "status": "completed"
    },
    "tags": []
   },
   "outputs": [],
   "source": [
    "submission.to_csv('submission.csv', index=False)"
   ]
  },
  {
   "cell_type": "code",
   "execution_count": 31,
   "id": "29db59e2",
   "metadata": {
    "execution": {
     "iopub.execute_input": "2024-07-03T15:21:58.665501Z",
     "iopub.status.busy": "2024-07-03T15:21:58.664378Z",
     "iopub.status.idle": "2024-07-03T15:21:58.677550Z",
     "shell.execute_reply": "2024-07-03T15:21:58.676370Z"
    },
    "papermill": {
     "duration": 0.027415,
     "end_time": "2024-07-03T15:21:58.679932",
     "exception": false,
     "start_time": "2024-07-03T15:21:58.652517",
     "status": "completed"
    },
    "tags": []
   },
   "outputs": [
    {
     "data": {
      "text/html": [
       "<div>\n",
       "<style scoped>\n",
       "    .dataframe tbody tr th:only-of-type {\n",
       "        vertical-align: middle;\n",
       "    }\n",
       "\n",
       "    .dataframe tbody tr th {\n",
       "        vertical-align: top;\n",
       "    }\n",
       "\n",
       "    .dataframe thead th {\n",
       "        text-align: right;\n",
       "    }\n",
       "</style>\n",
       "<table border=\"1\" class=\"dataframe\">\n",
       "  <thead>\n",
       "    <tr style=\"text-align: right;\">\n",
       "      <th></th>\n",
       "      <th>Id</th>\n",
       "      <th>SalePrice</th>\n",
       "    </tr>\n",
       "  </thead>\n",
       "  <tbody>\n",
       "    <tr>\n",
       "      <th>0</th>\n",
       "      <td>1461</td>\n",
       "      <td>123169.648438</td>\n",
       "    </tr>\n",
       "    <tr>\n",
       "      <th>1</th>\n",
       "      <td>1462</td>\n",
       "      <td>160207.078125</td>\n",
       "    </tr>\n",
       "    <tr>\n",
       "      <th>2</th>\n",
       "      <td>1463</td>\n",
       "      <td>182576.375000</td>\n",
       "    </tr>\n",
       "    <tr>\n",
       "      <th>3</th>\n",
       "      <td>1464</td>\n",
       "      <td>190653.359375</td>\n",
       "    </tr>\n",
       "    <tr>\n",
       "      <th>4</th>\n",
       "      <td>1465</td>\n",
       "      <td>183830.375000</td>\n",
       "    </tr>\n",
       "    <tr>\n",
       "      <th>...</th>\n",
       "      <td>...</td>\n",
       "      <td>...</td>\n",
       "    </tr>\n",
       "    <tr>\n",
       "      <th>1454</th>\n",
       "      <td>2915</td>\n",
       "      <td>83810.492188</td>\n",
       "    </tr>\n",
       "    <tr>\n",
       "      <th>1455</th>\n",
       "      <td>2916</td>\n",
       "      <td>81882.031250</td>\n",
       "    </tr>\n",
       "    <tr>\n",
       "      <th>1456</th>\n",
       "      <td>2917</td>\n",
       "      <td>159669.046875</td>\n",
       "    </tr>\n",
       "    <tr>\n",
       "      <th>1457</th>\n",
       "      <td>2918</td>\n",
       "      <td>116487.671875</td>\n",
       "    </tr>\n",
       "    <tr>\n",
       "      <th>1458</th>\n",
       "      <td>2919</td>\n",
       "      <td>234667.437500</td>\n",
       "    </tr>\n",
       "  </tbody>\n",
       "</table>\n",
       "<p>1459 rows × 2 columns</p>\n",
       "</div>"
      ],
      "text/plain": [
       "        Id      SalePrice\n",
       "0     1461  123169.648438\n",
       "1     1462  160207.078125\n",
       "2     1463  182576.375000\n",
       "3     1464  190653.359375\n",
       "4     1465  183830.375000\n",
       "...    ...            ...\n",
       "1454  2915   83810.492188\n",
       "1455  2916   81882.031250\n",
       "1456  2917  159669.046875\n",
       "1457  2918  116487.671875\n",
       "1458  2919  234667.437500\n",
       "\n",
       "[1459 rows x 2 columns]"
      ]
     },
     "execution_count": 31,
     "metadata": {},
     "output_type": "execute_result"
    }
   ],
   "source": [
    "submission"
   ]
  },
  {
   "cell_type": "code",
   "execution_count": null,
   "id": "138b32b7",
   "metadata": {
    "papermill": {
     "duration": 0.010244,
     "end_time": "2024-07-03T15:21:58.700727",
     "exception": false,
     "start_time": "2024-07-03T15:21:58.690483",
     "status": "completed"
    },
    "tags": []
   },
   "outputs": [],
   "source": []
  }
 ],
 "metadata": {
  "kaggle": {
   "accelerator": "none",
   "dataSources": [
    {
     "databundleVersionId": 868283,
     "sourceId": 5407,
     "sourceType": "competition"
    }
   ],
   "dockerImageVersionId": 30732,
   "isGpuEnabled": false,
   "isInternetEnabled": true,
   "language": "python",
   "sourceType": "notebook"
  },
  "kernelspec": {
   "display_name": "Python 3",
   "language": "python",
   "name": "python3"
  },
  "language_info": {
   "codemirror_mode": {
    "name": "ipython",
    "version": 3
   },
   "file_extension": ".py",
   "mimetype": "text/x-python",
   "name": "python",
   "nbconvert_exporter": "python",
   "pygments_lexer": "ipython3",
   "version": "3.10.13"
  },
  "papermill": {
   "default_parameters": {},
   "duration": 13.239276,
   "end_time": "2024-07-03T15:21:59.333084",
   "environment_variables": {},
   "exception": null,
   "input_path": "__notebook__.ipynb",
   "output_path": "__notebook__.ipynb",
   "parameters": {},
   "start_time": "2024-07-03T15:21:46.093808",
   "version": "2.5.0"
  }
 },
 "nbformat": 4,
 "nbformat_minor": 5
}
